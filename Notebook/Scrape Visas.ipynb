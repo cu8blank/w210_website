{
 "cells": [
  {
   "cell_type": "code",
   "execution_count": 4,
   "metadata": {
    "collapsed": true
   },
   "outputs": [],
   "source": [
    "s = open('List_countries.txt', 'r').read()\n",
    "data = eval(s)"
   ]
  },
  {
   "cell_type": "code",
   "execution_count": 7,
   "metadata": {
    "collapsed": false
   },
   "outputs": [],
   "source": [
    "import pycountry"
   ]
  },
  {
   "cell_type": "code",
   "execution_count": 14,
   "metadata": {
    "collapsed": false
   },
   "outputs": [
    {
     "name": "stdout",
     "output_type": "stream",
     "text": [
      "ROM\n",
      "TMP\n"
     ]
    }
   ],
   "source": [
    "codes = {} # key is the country code and value is full name \n",
    "for cc in data:\n",
    "    try:\n",
    "        code = pycountry.countries.get(alpha3=cc)\n",
    "        full = code.name\n",
    "        codes[cc]=full\n",
    "    except:\n",
    "        print cc\n",
    "        continue"
   ]
  },
  {
   "cell_type": "code",
   "execution_count": 15,
   "metadata": {
    "collapsed": false
   },
   "outputs": [],
   "source": [
    "codes['ROM']= 'Romania'\n",
    "codes['TMP']= 'East Timor'"
   ]
  },
  {
   "cell_type": "code",
   "execution_count": 18,
   "metadata": {
    "collapsed": false
   },
   "outputs": [
    {
     "data": {
      "text/plain": [
       "u'Zimbabwe'"
      ]
     },
     "execution_count": 18,
     "metadata": {},
     "output_type": "execute_result"
    }
   ],
   "source": [
    "codes['ZWE']"
   ]
  },
  {
   "cell_type": "code",
   "execution_count": 31,
   "metadata": {
    "collapsed": false
   },
   "outputs": [],
   "source": [
    "from bs4 import BeautifulSoup\n",
    "import urllib\n",
    "r = urllib.urlopen('https://en.wikipedia.org/wiki/Visa_requirements_for_United_States_citizens').read()\n",
    "soup = BeautifulSoup(r)"
   ]
  },
  {
   "cell_type": "code",
   "execution_count": 75,
   "metadata": {
    "collapsed": true
   },
   "outputs": [],
   "source": [
    "import re"
   ]
  },
  {
   "cell_type": "code",
   "execution_count": 116,
   "metadata": {
    "collapsed": true
   },
   "outputs": [],
   "source": [
    "list_codes= codes.keys()\n",
    "list_cnts= codes.values()"
   ]
  },
  {
   "cell_type": "code",
   "execution_count": 129,
   "metadata": {
    "collapsed": false
   },
   "outputs": [
    {
     "name": "stdout",
     "output_type": "stream",
     "text": [
      "Not in codes Andorra\n",
      "Not in codes Bolivia\n",
      "Not in codes Bosnia and Herzegovina\n",
      "Not in codes Brunei\n",
      "Not in codes Cape Verde\n",
      "Not in codes Democratic Republic of the Congo\n",
      "Not in codes Republic of the Congo\n",
      "Not in codes Dominica\n",
      "Not in codes Iran\n",
      "Not in codes Kiribati\n",
      "Not in codes North Korea\n",
      "Not in codes South Korea\n",
      "Not in codes Laos\n",
      "Not in codes Macedonia\n",
      "Not in codes Marshall Islands\n",
      "Not in codes Mauritius\n",
      "Not in codes Micronesia\n",
      "Not in codes Moldova\n",
      "Not in codes Montenegro\n",
      "Not in codes Nauru\n",
      "Not in codes Kingdom of the Netherlands\n",
      "Not in codes Palau\n",
      "Not in codes Russia\n",
      "Not in codes Saint Vincent and the Grenadines\n",
      "Not in codes Samoa\n",
      "Not in codes San Marino\n",
      "Not in codes São Tomé and Príncipe\n",
      "Not in codes Seychelles\n",
      "Not in codes Slovenia\n",
      "Not in codes Solomon Islands\n",
      "Not in codes South Sudan\n",
      "Not in codes Syria\n",
      "Not in codes Tanzania\n",
      "Not in codes Timor-Leste\n",
      "Not in codes Tonga\n",
      "Not in codes Tuvalu\n",
      "Not in codes Vanuatu\n",
      "Not in codes Vatican City\n",
      "Not in codes Venezuela\n",
      "Not in codes Vietnam\n"
     ]
    }
   ],
   "source": [
    "country_visas= {}\n",
    "table = soup.find(\"table\")\n",
    "for row in table.findAll(\"tr\")[1:]:\n",
    "    country = row.find(\"a\") # get the country of that row in wiki\n",
    "    cn =country.text\n",
    "    \n",
    "    # check if the cn is in the list of values from the codes dict\n",
    "    if cn in list_cnts:\n",
    "        cells = row.findAll(\"td\")\n",
    "        if len(cells) == 4:\n",
    "            c1 = cells[1].text\n",
    "            nc1= re.sub('\\[(.*?)\\]','', c1) # visa reqmt\n",
    "            c2 = cells[2].text\n",
    "            nc2= re.sub('\\[(.*?)\\]','', c2) # allowed stay\n",
    "            # get the code from list_codes\n",
    "            code = list_codes[list_cnts.index(cn)] \n",
    "            country_visas[code]= [nc1,nc2]\n",
    "    "
   ]
  },
  {
   "cell_type": "code",
   "execution_count": 182,
   "metadata": {
    "collapsed": false
   },
   "outputs": [
    {
     "data": {
      "text/plain": [
       "set()"
      ]
     },
     "execution_count": 182,
     "metadata": {},
     "output_type": "execute_result"
    }
   ],
   "source": [
    "set(list_codes) - set(country_visas.keys())"
   ]
  },
  {
   "cell_type": "code",
   "execution_count": 181,
   "metadata": {
    "collapsed": false
   },
   "outputs": [],
   "source": [
    "country_visas['VNM']=['Visa required','']"
   ]
  },
  {
   "cell_type": "code",
   "execution_count": 187,
   "metadata": {
    "collapsed": true
   },
   "outputs": [],
   "source": [
    "import pickle\n",
    "pickle.dump( codes, open( \"country_codes.p\", \"wb\" ) )"
   ]
  },
  {
   "cell_type": "code",
   "execution_count": null,
   "metadata": {
    "collapsed": true
   },
   "outputs": [],
   "source": [
    "favorite_color = pickle.load( open( \"save.p\", \"rb\" ) )"
   ]
  }
 ],
 "metadata": {
  "kernelspec": {
   "display_name": "Python 2",
   "language": "python",
   "name": "python2"
  },
  "language_info": {
   "codemirror_mode": {
    "name": "ipython",
    "version": 2
   },
   "file_extension": ".py",
   "mimetype": "text/x-python",
   "name": "python",
   "nbconvert_exporter": "python",
   "pygments_lexer": "ipython2",
   "version": "2.7.5"
  }
 },
 "nbformat": 4,
 "nbformat_minor": 0
}
