{
 "cells": [
  {
   "cell_type": "code",
   "execution_count": 20,
   "metadata": {
    "collapsed": true
   },
   "outputs": [],
   "source": [
    "import pymongo\n",
    "client = pymongo.MongoClient()\n",
    "db = client['tripadvisor']\n",
    "collection = db['attractionsBycountry']"
   ]
  },
  {
   "cell_type": "code",
   "execution_count": 21,
   "metadata": {
    "collapsed": true
   },
   "outputs": [],
   "source": [
    "from bson.son import SON\n",
    "import numpy"
   ]
  },
  {
   "cell_type": "code",
   "execution_count": 100,
   "metadata": {
    "collapsed": false
   },
   "outputs": [],
   "source": [
    "# Check if pipeline aggregation function is correct and it is \n",
    "z= list(collection.find({'country':'Zimbabwe'}))\n",
    "c= 0\n",
    "tot = 0\n",
    "for att in z:\n",
    "    for a in att['attractions']:\n",
    "        c+=1\n",
    "        #tot += a['vgood']\n",
    "        if 'excellent' in a:\n",
    "            tot += a['excellent']\n",
    "        #break\n",
    "    "
   ]
  },
  {
   "cell_type": "code",
   "execution_count": 22,
   "metadata": {
    "collapsed": false
   },
   "outputs": [
    {
     "data": {
      "text/plain": [
       "{'divide': 'warn', 'invalid': 'warn', 'over': 'warn', 'under': 'ignore'}"
      ]
     },
     "execution_count": 22,
     "metadata": {},
     "output_type": "execute_result"
    }
   ],
   "source": [
    "numpy.seterr(divide='ignore', invalid='ignore')"
   ]
  },
  {
   "cell_type": "code",
   "execution_count": 23,
   "metadata": {
    "collapsed": false
   },
   "outputs": [],
   "source": [
    "pipeline = [\n",
    "    #{ \"$project\" : { \"text\" : \"$attractions.sep_nov\" }},\n",
    "    {\"$unwind\" : \"$attractions\"},\n",
    "    {\"$group\": {\"_id\": '$country',\"average\": {\"$sum\": '$attractions.average'},\"poor\": {\"$sum\": '$attractions.poor'},\"terrible\": {\"$sum\": '$attractions.terrible'},\"vgood\": {\"$sum\": '$attractions.vgood'},\"excellent\": {\"$sum\": '$attractions.excellent'},\"business\": {\"$sum\": '$attractions.business'},\"solo\": {\"$sum\": '$attractions.solo'},\"friend\": {\"$sum\": '$attractions.friend'},\"family\": {\"$sum\": '$attractions.family'}, \"couple\": {\"$sum\": '$attractions.couple'}, \"mar_may\": {\"$sum\": '$attractions.mar_may'},\"jun_aug\": {\"$sum\": '$attractions.jun_aug'},\"sep_nov\": {\"$sum\": '$attractions.sep_nov'}, \"dec_feb\": {\"$sum\": '$attractions.dec_feb'}}},\n",
    "    {\"$sort\": SON([(\"count\", -1), (\"_id\", -1)])}\n",
    "]\n",
    "agg_data = list(collection.aggregate(pipeline))"
   ]
  },
  {
   "cell_type": "code",
   "execution_count": 24,
   "metadata": {
    "collapsed": false
   },
   "outputs": [],
   "source": [
    "agg_countries= []\n",
    "# create a list of dict storing the aggregate country data\n",
    "\n",
    "for country in agg_data:\n",
    "    try:\n",
    "        data = {}\n",
    "        data['country']= country['_id'] #dont aggregate the country\n",
    "        #extract values and normalize the values x1 - u /sigma\n",
    "        keys = [key for key in country.keys() if key !='_id']\n",
    "        #seasons= [country[k] for k in keys if k=='dec_feb' or k=='mar_may' or k=='jun_aug' or k=='sep_nov']\n",
    "        # Make a subset of the seasons\n",
    "        seasons = { 'dec_feb','mar_may','jun_aug','sep_nov'}\n",
    "        s_dict = { key:value for key,value in country.items() if key in seasons }\n",
    "\n",
    "        # Make a subset of the traveller type\n",
    "        trav_type = { 'couple','family','friend','business','solo'}\n",
    "        t_dict = { key:value for key,value in country.items() if key in trav_type }\n",
    "\n",
    "        # Make a subset of the overall rating\n",
    "        rating = { 'excellent','vgood','average','terrible','poor'}\n",
    "        r_dict = { key:value for key,value in country.items() if key in rating }\n",
    "\n",
    "        #for category is season,calc mean metric/sum min-max\n",
    "        def normalize(key_values):\n",
    "            mean_metric = numpy.mean(key_values.values())\n",
    "            std_metric = numpy.std(key_values.values())\n",
    "            #print mean_metric,std_metric\n",
    "            for k in key_values.keys():\n",
    "                data[k]= round(((1.0 * country[k] - mean_metric)/(std_metric)),2)\n",
    "\n",
    "        normalize(s_dict)\n",
    "        normalize(t_dict)\n",
    "        normalize(r_dict)\n",
    "        agg_countries.append(data)\n",
    "    except:\n",
    "        print country\n",
    "        break"
   ]
  },
  {
   "cell_type": "code",
   "execution_count": 25,
   "metadata": {
    "collapsed": false
   },
   "outputs": [
    {
     "name": "stdout",
     "output_type": "stream",
     "text": [
      "234\n"
     ]
    }
   ],
   "source": [
    "print len(agg_countries)"
   ]
  },
  {
   "cell_type": "code",
   "execution_count": 26,
   "metadata": {
    "collapsed": false
   },
   "outputs": [
    {
     "data": {
      "text/plain": [
       "{u'average': -0.54,\n",
       " u'business': -1.4,\n",
       " 'country': u'Zimbabwe',\n",
       " u'couple': 1.33,\n",
       " u'dec_feb': -0.72,\n",
       " u'excellent': 1.94,\n",
       " u'family': 0.13,\n",
       " u'friend': 0.76,\n",
       " u'jun_aug': 0.85,\n",
       " u'mar_may': -1.24,\n",
       " u'poor': -0.68,\n",
       " u'sep_nov': 1.11,\n",
       " u'solo': -0.83,\n",
       " u'terrible': -0.69,\n",
       " u'vgood': -0.03}"
      ]
     },
     "execution_count": 26,
     "metadata": {},
     "output_type": "execute_result"
    }
   ],
   "source": [
    "agg_countries[0]"
   ]
  },
  {
   "cell_type": "code",
   "execution_count": 27,
   "metadata": {
    "collapsed": false
   },
   "outputs": [],
   "source": [
    "import pickle\n",
    "with open('country_dt_means.p', 'rb') as fp:\n",
    "    dt_data = pickle.load(fp)"
   ]
  },
  {
   "cell_type": "code",
   "execution_count": 28,
   "metadata": {
    "collapsed": false
   },
   "outputs": [],
   "source": [
    "# add dt field to agg_countries\n",
    "for elem in agg_countries:\n",
    "        try:\n",
    "            dt = dt_data[elem['country']]\n",
    "            elem['dt']=dt\n",
    "        except:\n",
    "            continue"
   ]
  },
  {
   "cell_type": "code",
   "execution_count": 29,
   "metadata": {
    "collapsed": false
   },
   "outputs": [
    {
     "data": {
      "text/plain": [
       "{u'average': -0.36,\n",
       " u'business': -0.71,\n",
       " 'country': u'Algeria',\n",
       " u'couple': -0.84,\n",
       " u'dec_feb': -0.0,\n",
       " 'dt': array([ 0.05772924,  0.        ,  0.01645799,  0.50342912,  0.05338187,\n",
       "         0.11023541,  0.09463414,  0.16413223,  0.        ,  0.        ]),\n",
       " u'excellent': 1.42,\n",
       " u'family': 1.65,\n",
       " u'friend': 0.67,\n",
       " u'jun_aug': 0.47,\n",
       " u'mar_may': -1.59,\n",
       " u'poor': -0.95,\n",
       " u'sep_nov': 1.12,\n",
       " u'solo': -0.78,\n",
       " u'terrible': -1.04,\n",
       " u'vgood': 0.94}"
      ]
     },
     "execution_count": 29,
     "metadata": {},
     "output_type": "execute_result"
    }
   ],
   "source": [
    "agg_countries[230]"
   ]
  },
  {
   "cell_type": "code",
   "execution_count": 30,
   "metadata": {
    "collapsed": true
   },
   "outputs": [],
   "source": [
    "from collections import Counter"
   ]
  },
  {
   "cell_type": "code",
   "execution_count": 31,
   "metadata": {
    "collapsed": false
   },
   "outputs": [],
   "source": [
    "country_at = {}\n",
    "# get all the activity type for each country \n",
    "for country_data in list(collection.find()):\n",
    "    agg_at = []\n",
    "    for attr in country_data['attractions']:\n",
    "        agg_at.append(attr['activity_types'])\n",
    "    flat_at = [item for sublist in agg_at for item in sublist]\n",
    "    mc = [ite for ite, it in Counter(flat_at).most_common(5)]\n",
    "    country_at[country_data['country']]= mc\n",
    "    "
   ]
  },
  {
   "cell_type": "code",
   "execution_count": 32,
   "metadata": {
    "collapsed": false
   },
   "outputs": [],
   "source": [
    "# add at to agg_countries\n",
    "for elem in agg_countries:\n",
    "        try:\n",
    "            at = country_at[elem['country']]\n",
    "            elem['at']=at\n",
    "        except:\n",
    "            continue"
   ]
  },
  {
   "cell_type": "code",
   "execution_count": 34,
   "metadata": {
    "collapsed": false
   },
   "outputs": [
    {
     "data": {
      "text/plain": [
       "{'at': [u'Mountains',\n",
       "  u'Scenic Railroads',\n",
       "  u'Bodies of Water',\n",
       "  u'Neighborhoods',\n",
       "  u'Ski & Snowboard Areas'],\n",
       " u'average': -0.6,\n",
       " u'business': -1.21,\n",
       " 'country': u'Switzerland',\n",
       " u'couple': 1.65,\n",
       " u'dec_feb': -0.63,\n",
       " 'dt': array([ 0.06209796,  0.00074326,  0.2581091 ,  0.10245742,  0.        ,\n",
       "         0.15257498,  0.00078455,  0.04136237,  0.373284  ,  0.00858636]),\n",
       " u'excellent': 1.88,\n",
       " u'family': 0.4,\n",
       " u'friend': -0.03,\n",
       " u'jun_aug': 1.28,\n",
       " u'mar_may': -1.26,\n",
       " u'poor': -0.73,\n",
       " u'sep_nov': 0.61,\n",
       " u'solo': -0.81,\n",
       " u'terrible': -0.73,\n",
       " u'vgood': 0.17}"
      ]
     },
     "execution_count": 34,
     "metadata": {},
     "output_type": "execute_result"
    }
   ],
   "source": [
    "agg_countries[30]"
   ]
  },
  {
   "cell_type": "code",
   "execution_count": 55,
   "metadata": {
    "collapsed": false
   },
   "outputs": [],
   "source": [
    "# extract features from agg_countries and store in numpy array\n",
    "# feature order: excellent, vgood...\n",
    "Y_labels = [] # store the country names\n",
    "X = []\n",
    "for cd in agg_countries:\n",
    "    country_list = []\n",
    "    skip = 0\n",
    "    fields = ['excellent', 'vgood','average', 'poor','terrible','family', 'friend','couple','solo','business','dec_feb','mar_may','jun_aug','sep_nov','dt']\n",
    "    for field in fields:\n",
    "        # get the field value and store in X\n",
    "        if field not in cd.keys():\n",
    "            skip = 1\n",
    "            break\n",
    "        # flatten dt\n",
    "        if field=='dt':\n",
    "            for dt in cd['dt']:\n",
    "                country_list.append(dt) \n",
    "        \n",
    "        else:\n",
    "            country_list.append(cd[field])\n",
    "    if(not skip):\n",
    "        Y_labels.append(cd['country'])\n",
    "        X.append(numpy.asarray([country_list]))"
   ]
  },
  {
   "cell_type": "code",
   "execution_count": 256,
   "metadata": {
    "collapsed": false
   },
   "outputs": [
    {
     "data": {
      "text/plain": [
       "array([[ 1.94      , -0.03      , -0.54      , -0.68      , -0.69      ,\n",
       "         0.13      ,  0.76      ,  1.33      , -0.83      , -1.4       ,\n",
       "        -0.72      , -1.24      ,  0.85      ,  1.11      ,  0.13720219,\n",
       "         0.0037902 ,  0.09591325,  0.15495553,  0.23691945,  0.11901002,\n",
       "         0.        ,  0.07029533,  0.14941155,  0.03250248]])"
      ]
     },
     "execution_count": 256,
     "metadata": {},
     "output_type": "execute_result"
    }
   ],
   "source": [
    "X[0]"
   ]
  },
  {
   "cell_type": "code",
   "execution_count": 56,
   "metadata": {
    "collapsed": false
   },
   "outputs": [],
   "source": [
    "X_train = numpy.asarray(X)"
   ]
  },
  {
   "cell_type": "code",
   "execution_count": 59,
   "metadata": {
    "collapsed": false
   },
   "outputs": [],
   "source": [
    "v= X_train.reshape(203,24)"
   ]
  },
  {
   "cell_type": "code",
   "execution_count": 310,
   "metadata": {
    "collapsed": false
   },
   "outputs": [
    {
     "data": {
      "text/plain": [
       "(203, 24)"
      ]
     },
     "execution_count": 310,
     "metadata": {},
     "output_type": "execute_result"
    }
   ],
   "source": [
    "v.shape"
   ]
  },
  {
   "cell_type": "code",
   "execution_count": 37,
   "metadata": {
    "collapsed": false
   },
   "outputs": [],
   "source": [
    "from sklearn.cluster import KMeans"
   ]
  },
  {
   "cell_type": "code",
   "execution_count": 317,
   "metadata": {
    "collapsed": false
   },
   "outputs": [],
   "source": [
    "errors=[]\n",
    "for n in range(5,22,3):\n",
    "    km = KMeans(n_clusters= n, init='k-means++', max_iter=100, n_init=1,)\n",
    "    km.fit(v)\n",
    "    errors.append(calcError(v))"
   ]
  },
  {
   "cell_type": "code",
   "execution_count": 322,
   "metadata": {
    "collapsed": true
   },
   "outputs": [],
   "source": [
    "pyplot.plot(range(5,22,3), errors)\n",
    "pyplot.show()"
   ]
  },
  {
   "cell_type": "code",
   "execution_count": 306,
   "metadata": {
    "collapsed": true
   },
   "outputs": [],
   "source": [
    "import numpy as np\n",
    "from scipy import cluster\n",
    "from matplotlib import pyplot"
   ]
  },
  {
   "cell_type": "code",
   "execution_count": 316,
   "metadata": {
    "collapsed": true
   },
   "outputs": [],
   "source": [
    "initial = [cluster.vq.kmeans(v,i) for i in range(10,20,4)]\n",
    "pyplot.plot(range(10,20,4), [var for (cent,var) in initial])\n",
    "pyplot.show()"
   ]
  },
  {
   "cell_type": "code",
   "execution_count": 319,
   "metadata": {
    "collapsed": false
   },
   "outputs": [
    {
     "name": "stdout",
     "output_type": "stream",
     "text": [
      "30.8717248307\n"
     ]
    }
   ],
   "source": [
    "km = KMeans(n_clusters= 17, init='k-means++', max_iter=100, n_init=1,)\n",
    "km.fit(v)\n",
    "print calcError(v)"
   ]
  },
  {
   "cell_type": "code",
   "execution_count": 324,
   "metadata": {
    "collapsed": false
   },
   "outputs": [
    {
     "data": {
      "text/plain": [
       "14"
      ]
     },
     "execution_count": 324,
     "metadata": {},
     "output_type": "execute_result"
    }
   ],
   "source": [
    "pred_cluster_ids_t[0]"
   ]
  },
  {
   "cell_type": "code",
   "execution_count": 348,
   "metadata": {
    "collapsed": false
   },
   "outputs": [],
   "source": [
    "hist(pred_cluster_ids_t)"
   ]
  },
  {
   "cell_type": "code",
   "execution_count": 349,
   "metadata": {
    "collapsed": false
   },
   "outputs": [
    {
     "name": "stderr",
     "output_type": "stream",
     "text": [
      "/usr/local/lib/python2.7/site-packages/requests/packages/urllib3/util/ssl_.py:90: InsecurePlatformWarning:\n",
      "\n",
      "A true SSLContext object is not available. This prevents urllib3 from configuring SSL appropriately and may cause certain SSL connections to fail. For more information, see https://urllib3.readthedocs.org/en/latest/security.html#insecureplatformwarning.\n",
      "\n"
     ]
    }
   ],
   "source": [
    "data = [\n",
    "    go.Histogram(\n",
    "        x=pred_cluster_ids\n",
    "    )\n",
    "]\n",
    "plot_url = py.plot(data, filename='10clusters')"
   ]
  },
  {
   "cell_type": "code",
   "execution_count": 325,
   "metadata": {
    "collapsed": false
   },
   "outputs": [],
   "source": [
    "pyplot.scatter(v[:,0], v[:,14], c=pred_cluster_ids_t)\n",
    "pyplot.show()"
   ]
  },
  {
   "cell_type": "code",
   "execution_count": 320,
   "metadata": {
    "collapsed": false
   },
   "outputs": [
    {
     "data": {
      "text/plain": [
       "Counter({3: 35, 1: 24, 0: 14, 8: 13, 13: 13, 16: 13, 14: 11, 4: 10, 5: 10, 9: 10, 2: 9, 10: 9, 11: 8, 15: 8, 7: 7, 12: 6, 6: 3})"
      ]
     },
     "execution_count": 320,
     "metadata": {},
     "output_type": "execute_result"
    }
   ],
   "source": [
    "pred_cluster_ids_t = km.predict(v)\n",
    "Counter(pred_cluster_ids_t)"
   ]
  },
  {
   "cell_type": "code",
   "execution_count": 321,
   "metadata": {
    "collapsed": false
   },
   "outputs": [
    {
     "data": {
      "text/plain": [
       "Counter({8: 39, 3: 31, 6: 29, 2: 27, 1: 22, 4: 18, 0: 15, 5: 10, 9: 9, 7: 3})"
      ]
     },
     "execution_count": 321,
     "metadata": {},
     "output_type": "execute_result"
    }
   ],
   "source": [
    "Counter(pred_cluster_ids)"
   ]
  },
  {
   "cell_type": "code",
   "execution_count": 264,
   "metadata": {
    "collapsed": true
   },
   "outputs": [],
   "source": [
    "import math"
   ]
  },
  {
   "cell_type": "code",
   "execution_count": 303,
   "metadata": {
    "collapsed": false
   },
   "outputs": [],
   "source": [
    "def error(point):\n",
    "    \n",
    "    center = km.cluster_centers_[km.predict(point)]\n",
    "    center1= center[0]\n",
    "    tot = 0\n",
    "    for i in range(len(point)):\n",
    "        d = point[0][i] - center1[i]\n",
    "        tot += d**2\n",
    "  \n",
    "    return math.sqrt(tot)\n",
    "    #return math.sqrt(sum([x**2 for x in (point - center1)]))"
   ]
  },
  {
   "cell_type": "code",
   "execution_count": 305,
   "metadata": {
    "collapsed": false
   },
   "outputs": [],
   "source": [
    "def calcError(v):\n",
    "    WSSSE=0\n",
    "    for v1 in v:\n",
    "        WSSSE+=error(v1.reshape(1, -1))\n",
    "\n",
    "    return WSSSE\n",
    "    #WSSSE = v.map(lambda point: error(point)).reduce(lambda x, y: x + y)\n",
    "    #print(\"Within Set Sum of Squared Error = \" + str(WSSSE))\n"
   ]
  },
  {
   "cell_type": "code",
   "execution_count": null,
   "metadata": {
    "collapsed": true
   },
   "outputs": [],
   "source": []
  },
  {
   "cell_type": "code",
   "execution_count": null,
   "metadata": {
    "collapsed": true
   },
   "outputs": [],
   "source": []
  },
  {
   "cell_type": "code",
   "execution_count": null,
   "metadata": {
    "collapsed": true
   },
   "outputs": [],
   "source": []
  },
  {
   "cell_type": "code",
   "execution_count": 72,
   "metadata": {
    "collapsed": false
   },
   "outputs": [],
   "source": [
    "pred_cluster_ids = km.predict(v)\n",
    "Counter(pred_cluster_ids)"
   ]
  },
  {
   "cell_type": "code",
   "execution_count": 75,
   "metadata": {
    "collapsed": false
   },
   "outputs": [],
   "source": [
    "from collections import Counter"
   ]
  },
  {
   "cell_type": "code",
   "execution_count": 76,
   "metadata": {
    "collapsed": false
   },
   "outputs": [
    {
     "data": {
      "text/plain": [
       "Counter({8: 39, 3: 31, 6: 29, 2: 27, 1: 22, 4: 18, 0: 15, 5: 10, 9: 9, 7: 3})"
      ]
     },
     "execution_count": 76,
     "metadata": {},
     "output_type": "execute_result"
    }
   ],
   "source": [
    "Counter(pred_cluster_ids)"
   ]
  },
  {
   "cell_type": "code",
   "execution_count": 355,
   "metadata": {
    "collapsed": false
   },
   "outputs": [],
   "source": [
    "def findict(name):\n",
    "    for d in agg_countries:\n",
    "        if d['country']== name:\n",
    "            return d\n",
    "    return None"
   ]
  },
  {
   "cell_type": "code",
   "execution_count": 363,
   "metadata": {
    "collapsed": false
   },
   "outputs": [],
   "source": [
    "#clusters = {} \n",
    "nmatch_names= []\n",
    "# get list of countries in each cluster\n",
    "for cluster_id in range(17):\n",
    "    \n",
    "    indexes = numpy.where(pred_cluster_ids_t==cluster_id)\n",
    "    for i in indexes[0]:\n",
    "        cntry= Y_labels[i]\n",
    "        cnt_dict= findict(cntry)\n",
    "        if cnt_dict is not None:\n",
    "            cnt_dict['cluster_id']= cluster_id\n",
    "        else:\n",
    "            nmatch_names.append(cntry)\n",
    "    \n",
    "        "
   ]
  },
  {
   "cell_type": "code",
   "execution_count": 492,
   "metadata": {
    "collapsed": false
   },
   "outputs": [],
   "source": [
    "pickle.dump(final_agg, open( \"final_agg.p\", \"wb\" ))\n",
    "final_agg = pickle.load( open( \"final_agg.p\", \"rb\" ) )"
   ]
  },
  {
   "cell_type": "code",
   "execution_count": 493,
   "metadata": {
    "collapsed": true
   },
   "outputs": [],
   "source": [
    "import csv"
   ]
  },
  {
   "cell_type": "code",
   "execution_count": 495,
   "metadata": {
    "collapsed": false
   },
   "outputs": [],
   "source": [
    "keys = final_agg[0].keys()\n",
    "with open('finalCOUNTRIES.csv', 'wb') as output_file:\n",
    "    dict_writer = csv.DictWriter(output_file, keys)\n",
    "    dict_writer.writeheader()\n",
    "    dict_writer.writerows(final_agg)"
   ]
  },
  {
   "cell_type": "code",
   "execution_count": 484,
   "metadata": {
    "collapsed": false
   },
   "outputs": [],
   "source": [
    "# Filter out the agg_countries not in country_codes\n",
    "for a in final_agg:\n",
    "    if 'dt' in a:\n",
    "        # get the value\n",
    "        old=a['dt']\n",
    "        a['dt']=old.tolist()\n",
    "        "
   ]
  },
  {
   "cell_type": "code",
   "execution_count": 485,
   "metadata": {
    "collapsed": false
   },
   "outputs": [
    {
     "data": {
      "text/plain": [
       "{'_id': ObjectId('56e21c201059e9f2c78e4ead'),\n",
       " 'allowed_stay': u'3 months',\n",
       " 'at': [u'Nature & Wildlife Areas',\n",
       "  u'National Parks',\n",
       "  u'Parks',\n",
       "  u'Points of Interest & Landmarks',\n",
       "  u'Historic Sites'],\n",
       " u'average': -0.54,\n",
       " u'business': -1.4,\n",
       " 'cluster_id': 14,\n",
       " 'country': u'Zimbabwe',\n",
       " 'country_code': 'ZWE',\n",
       " u'couple': 1.33,\n",
       " u'dec_feb': -0.72,\n",
       " 'dt': [0.13720219186556334,\n",
       "  0.0037901973563552647,\n",
       "  0.09591325374261457,\n",
       "  0.1549555327661565,\n",
       "  0.23691944949073118,\n",
       "  0.11901001586072389,\n",
       "  0.0,\n",
       "  0.07029532807651526,\n",
       "  0.14941155390152544,\n",
       "  0.03250247693981457],\n",
       " u'excellent': 1.94,\n",
       " u'family': 0.13,\n",
       " u'friend': 0.76,\n",
       " u'jun_aug': 0.85,\n",
       " u'mar_may': -1.24,\n",
       " u'poor': -0.68,\n",
       " u'sep_nov': 1.11,\n",
       " u'solo': -0.83,\n",
       " u'terrible': -0.69,\n",
       " u'vgood': -0.03,\n",
       " 'visa_req': u'Visa on arrival'}"
      ]
     },
     "execution_count": 485,
     "metadata": {},
     "output_type": "execute_result"
    }
   ],
   "source": [
    "final_agg[0]"
   ]
  },
  {
   "cell_type": "code",
   "execution_count": 481,
   "metadata": {
    "collapsed": true
   },
   "outputs": [],
   "source": [
    "final_agg=[]\n",
    "c=0\n",
    "for a in agg_countries:\n",
    "    if 'country_code' in a:\n",
    "        c+=1\n",
    "        final_agg.append(a)"
   ]
  },
  {
   "cell_type": "code",
   "execution_count": 496,
   "metadata": {
    "collapsed": false
   },
   "outputs": [
    {
     "data": {
      "text/plain": [
       "[u'family',\n",
       " u'vgood',\n",
       " u'sep_nov',\n",
       " 'cluster_id',\n",
       " 'at',\n",
       " 'country_code',\n",
       " u'mar_may',\n",
       " 'visa_req',\n",
       " u'friend',\n",
       " u'poor',\n",
       " u'solo',\n",
       " u'business',\n",
       " u'couple',\n",
       " u'jun_aug',\n",
       " 'allowed_stay',\n",
       " u'excellent',\n",
       " 'dt',\n",
       " u'dec_feb',\n",
       " 'country',\n",
       " u'average',\n",
       " u'terrible',\n",
       " '_id']"
      ]
     },
     "execution_count": 496,
     "metadata": {},
     "output_type": "execute_result"
    }
   ],
   "source": [
    "final_agg[0].keys()"
   ]
  },
  {
   "cell_type": "code",
   "execution_count": 486,
   "metadata": {
    "collapsed": false
   },
   "outputs": [],
   "source": [
    "\n",
    "# put final_agg in mongo\n",
    "import pymongo\n",
    "client = pymongo.MongoClient()\n",
    "db = client['tripadvisor']\n",
    "collection2 = db['final_countries_data']\n",
    "r=collection2.insert_many(final_agg)\n",
    "\n"
   ]
  },
  {
   "cell_type": "code",
   "execution_count": 450,
   "metadata": {
    "collapsed": false
   },
   "outputs": [],
   "source": [
    "c = {}\n",
    "for x in range(17):\n",
    "    tmp =[]\n",
    "    ind= np.where(pred_cluster_ids_t ==x )\n",
    "    #print len(ind[0])\n",
    "    for i in ind[0]:\n",
    "        tmp.append(Y_labels[i])\n",
    "    c[x]= tmp\n",
    "\n",
    "with open('countries_by_cluster.p', 'wb') as handle:\n",
    "    pickle.dump(c, handle)"
   ]
  },
  {
   "cell_type": "code",
   "execution_count": 443,
   "metadata": {
    "collapsed": false
   },
   "outputs": [
    {
     "data": {
      "text/plain": [
       "{0: 14,\n",
       " 1: 24,\n",
       " 2: 9,\n",
       " 3: 35,\n",
       " 4: 10,\n",
       " 5: 10,\n",
       " 6: 3,\n",
       " 7: 7,\n",
       " 8: 13,\n",
       " 9: 10,\n",
       " 10: 9,\n",
       " 11: 8,\n",
       " 12: 6,\n",
       " 13: 13,\n",
       " 14: 11,\n",
       " 15: 8,\n",
       " 16: 13}"
      ]
     },
     "execution_count": 443,
     "metadata": {},
     "output_type": "execute_result"
    }
   ],
   "source": [
    "distr"
   ]
  },
  {
   "cell_type": "code",
   "execution_count": null,
   "metadata": {
    "collapsed": true
   },
   "outputs": [],
   "source": []
  },
  {
   "cell_type": "code",
   "execution_count": null,
   "metadata": {
    "collapsed": true
   },
   "outputs": [],
   "source": []
  },
  {
   "cell_type": "code",
   "execution_count": 442,
   "metadata": {
    "collapsed": false
   },
   "outputs": [],
   "source": [
    "with open('cluster_distributions.p', 'wb') as handle:\n",
    "    pickle.dump(distr, handle)"
   ]
  },
  {
   "cell_type": "code",
   "execution_count": 203,
   "metadata": {
    "collapsed": true
   },
   "outputs": [],
   "source": [
    "country_visas = pickle.load( open( \"country_visas.p\", \"rb\" ) )"
   ]
  },
  {
   "cell_type": "code",
   "execution_count": 225,
   "metadata": {
    "collapsed": false
   },
   "outputs": [],
   "source": [
    "def checkcode(code):\n",
    "    for c in agg_countries:\n",
    "        if 'country_code' in c:\n",
    "            if c['country_code'] == code:\n",
    "                return c\n",
    "        "
   ]
  },
  {
   "cell_type": "code",
   "execution_count": 245,
   "metadata": {
    "collapsed": false
   },
   "outputs": [],
   "source": [
    "#final_agg2 = []\n",
    "no_info = []\n",
    "for ccode, country_visa in country_visas.items():\n",
    "    country_dic = checkcode(ccode)\n",
    "    if country_dic != None:\n",
    "        country_dic['visa_req']= country_visa[0]\n",
    "        country_dic['allowed_stay']= country_visa[1]\n",
    "    else:\n",
    "        no_info.append((ccode, country_visa))"
   ]
  },
  {
   "cell_type": "code",
   "execution_count": 246,
   "metadata": {
    "collapsed": false,
    "scrolled": true
   },
   "outputs": [
    {
     "data": {
      "text/plain": [
       "[('COG', ['Visa required', '']),\n",
       " ('USA', ['Already from here!', '']),\n",
       " ('CIV', [u'eVisa', u''])]"
      ]
     },
     "execution_count": 246,
     "metadata": {},
     "output_type": "execute_result"
    }
   ],
   "source": [
    "no_info"
   ]
  },
  {
   "cell_type": "code",
   "execution_count": 217,
   "metadata": {
    "collapsed": false
   },
   "outputs": [
    {
     "data": {
      "text/plain": [
       "[u'Visa on arrival',\n",
       " u'90 days (exact period determined on arrival, later extendable free of charge)']"
      ]
     },
     "execution_count": 217,
     "metadata": {},
     "output_type": "execute_result"
    }
   ],
   "source": [
    "country_visas['ZMB']"
   ]
  },
  {
   "cell_type": "code",
   "execution_count": 244,
   "metadata": {
    "collapsed": false
   },
   "outputs": [],
   "source": [
    "agg_countries[179]['country_code']= 'COD'"
   ]
  },
  {
   "cell_type": "code",
   "execution_count": 249,
   "metadata": {
    "collapsed": false
   },
   "outputs": [],
   "source": [
    "for i,a in enumerate(agg_countries):\n",
    "    if a['country']==\"Republic of Congo\":\n",
    "        print i"
   ]
  },
  {
   "cell_type": "code",
   "execution_count": 389,
   "metadata": {
    "collapsed": false
   },
   "outputs": [
    {
     "data": {
      "text/plain": [
       "175"
      ]
     },
     "execution_count": 389,
     "metadata": {},
     "output_type": "execute_result"
    }
   ],
   "source": [
    "len(country_codes)"
   ]
  },
  {
   "cell_type": "code",
   "execution_count": null,
   "metadata": {
    "collapsed": true
   },
   "outputs": [],
   "source": []
  }
 ],
 "metadata": {
  "kernelspec": {
   "display_name": "Python 2",
   "language": "python",
   "name": "python2"
  },
  "language_info": {
   "codemirror_mode": {
    "name": "ipython",
    "version": 2
   },
   "file_extension": ".py",
   "mimetype": "text/x-python",
   "name": "python",
   "nbconvert_exporter": "python",
   "pygments_lexer": "ipython2",
   "version": "2.7.5"
  }
 },
 "nbformat": 4,
 "nbformat_minor": 0
}
