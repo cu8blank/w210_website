{
 "cells": [
  {
   "cell_type": "code",
   "execution_count": 1,
   "metadata": {
    "collapsed": true
   },
   "outputs": [],
   "source": [
    "from selenium import webdriver\n",
    "from selenium.webdriver.common.keys import Keys\n"
   ]
  },
  {
   "cell_type": "code",
   "execution_count": 53,
   "metadata": {
    "collapsed": false
   },
   "outputs": [
    {
     "data": {
      "text/plain": [
       "'LABEL'"
      ]
     },
     "execution_count": 53,
     "metadata": {},
     "output_type": "execute_result"
    }
   ],
   "source": [
    "countries =[]\n",
    "with open(\"country.txt\") as f:\n",
    "    for line in f:\n",
    "        words= line.split(\"\\t\")\n",
    "        countries.append(words[1].strip(\"\\n\"))\n",
    "        \n",
    "countries.pop(0)"
   ]
  },
  {
   "cell_type": "code",
   "execution_count": 54,
   "metadata": {
    "collapsed": false
   },
   "outputs": [
    {
     "data": {
      "text/plain": [
       "241"
      ]
     },
     "execution_count": 54,
     "metadata": {},
     "output_type": "execute_result"
    }
   ],
   "source": [
    "len(countries)"
   ]
  },
  {
   "cell_type": "code",
   "execution_count": 80,
   "metadata": {
    "collapsed": false
   },
   "outputs": [],
   "source": [
    "#country_urls = []\n",
    "count = 0\n",
    "for country in countries:\n",
    "    if country_urls[count] == 'http://www.tripadvisor.com/' :\n",
    "        driver = webdriver.Firefox()\n",
    "        driver.get(\"http://www.tripadvisor.com\")\n",
    "        driver.implicitly_wait(10)\n",
    "        inputElement1 = driver.find_element_by_id(\"GEO_SCOPED_SEARCH_INPUT\")\n",
    "        inputElement1.send_keys(country)\n",
    "        driver.implicitly_wait(5)\n",
    "        inputElement1.send_keys(Keys.ENTER)\n",
    "        inputElement2 = driver.find_element_by_id(\"mainSearch\")\n",
    "        inputElement2.send_keys('Things to do')\n",
    "        driver.implicitly_wait(5)\n",
    "        inputElement2.send_keys(Keys.ENTER)\n",
    "        #print driver.current_url\n",
    "        driver.implicitly_wait(4)\n",
    "        country_urls[count]=driver.current_url\n",
    "        driver.implicitly_wait(4)\n",
    "        driver.close()\n",
    "    count +=1"
   ]
  },
  {
   "cell_type": "code",
   "execution_count": 83,
   "metadata": {
    "collapsed": false
   },
   "outputs": [],
   "source": [
    "#get a list of prefetched urls and store in text file along with country name\n",
    "with open('country_urls.txt', 'a') as the_file:\n",
    "    for i in range(len(countries)):\n",
    "        the_file.write(countries[i] + '\\t'+ country_urls[i]+'\\n')"
   ]
  },
  {
   "cell_type": "code",
   "execution_count": 85,
   "metadata": {
    "collapsed": false
   },
   "outputs": [
    {
     "name": "stdout",
     "output_type": "stream",
     "text": [
      "['West Bank', 'http://www.tripadvisor.com/Attractions-g6697292-Activities-West_Bank.html']\n"
     ]
    }
   ],
   "source": [
    "\n",
    "with open(\"country_urls.txt\") as f:\n",
    "    for line in f:\n",
    "        line1 = line.strip('\\n')\n",
    "        words= line1.split(\"\\t\")\n",
    "        print words\n",
    "        break"
   ]
  },
  {
   "cell_type": "code",
   "execution_count": null,
   "metadata": {
    "collapsed": true
   },
   "outputs": [],
   "source": []
  }
 ],
 "metadata": {
  "kernelspec": {
   "display_name": "Python 2",
   "language": "python",
   "name": "python2"
  },
  "language_info": {
   "codemirror_mode": {
    "name": "ipython",
    "version": 2
   },
   "file_extension": ".py",
   "mimetype": "text/x-python",
   "name": "python",
   "nbconvert_exporter": "python",
   "pygments_lexer": "ipython2",
   "version": "2.7.5"
  }
 },
 "nbformat": 4,
 "nbformat_minor": 0
}
